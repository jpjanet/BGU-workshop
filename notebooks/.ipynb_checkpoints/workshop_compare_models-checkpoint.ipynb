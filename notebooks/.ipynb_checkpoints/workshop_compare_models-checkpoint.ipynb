{
 "cells": [
  {
   "cell_type": "code",
   "execution_count": 1,
   "metadata": {},
   "outputs": [],
   "source": [
    "# Import libraries\n",
    "\n",
    "from mpl_toolkits.mplot3d import Axes3D\n",
    "from matplotlib import cm\n",
    "\n",
    "import numpy as np\n",
    "import math\n",
    "import matplotlib\n",
    "\n",
    "from numpy import random \n",
    "from numpy import linalg as LA\n",
    "from scipy.optimize import least_squares\n",
    "\n",
    "## Steps to use widgets\n",
    "##-----------------------------\n",
    "## To install ipympl with conda:\n",
    "#conda install -c conda-forge ipympl\n",
    "## If using the Notebook\n",
    "#conda install -c conda-forge widgetsnbextension\n",
    "## If using JupyterLab\n",
    "#conda install nodejs\n",
    "#jupyter labextension install @jupyter-widgets/jupyterlab-manager\n",
    "#jupyter labextension install jupyter-matplotlib\n",
    "\n",
    "## To install ipympl with pip (I did this):\n",
    "#pip install ipympl\n",
    "##-----------------------------\n",
    "\n",
    "# To activate widgets (requires ipympl)\n",
    "#%matplotlib widget\n",
    "%matplotlib widget\n",
    "import matplotlib.pyplot as plt\n",
    "\n",
    "# Reduce print precision to make it easier to compare numbers\n",
    "np.set_printoptions(precision=3)\n"
   ]
  },
  {
   "cell_type": "code",
   "execution_count": 2,
   "metadata": {},
   "outputs": [],
   "source": [
    "# Functions\n",
    "# --------------------------------------\n",
    "\n",
    "# Simple generic function: y = w0+w1(x1)+w2(x2)+w3(x1x2)+w4(x1^2)+w5(x2^2)\n",
    "def yfunction(X, w):\n",
    "    rt2 = np.sqrt(2)\n",
    "    y = w[0] + (w[1] * X[:,0] * rt2) + (w[2] * X[:,1] * rt2) + (w[3] * (X[:,0] * X[:,1]) * rt2) + \\\n",
    "    (w[4] * (X[:,0] * X[:,0])) + (w[5] * (X[:,1] * X[:,1]))\n",
    "    return y\n",
    "\n",
    "# Loss function: 1/n \\sum_{i=1}^n (yi- f(x1i,x2i))^2 + lambda ||W||_2^2\n",
    "def lossfunction(w, y, X, lambdaval):\n",
    "    n = len(X[:,0])\n",
    "    normW = LA.norm(w)\n",
    "    fx1x2 = yfunction(X, w)\n",
    "    loss = LA.norm(y - fx1x2)\n",
    "    loss = np.divide(1.0, n) * (loss * loss) + (lambdaval * normW * normW) \n",
    "    return loss   \n",
    "\n",
    "# --------------------------------------\n",
    "\n",
    "# Function to build the matrix varphi(X)=[x1 x2 x1*x2 x1*x1 x2*x2]\n",
    "def varphifunction(X,disp=True):\n",
    "    rt2 = np.sqrt(2)\n",
    "    varphi = np.zeros((len(X[:,0]), 6))\n",
    "    varphi[:,0] = np.ones(len(X[:,0]))\n",
    "    varphi[:,1] = rt2*X[:,0]\n",
    "    varphi[:,2] = rt2*X[:,1]\n",
    "    varphi[:,3] = rt2*np.multiply(X[:,0],X[:,1])\n",
    "    varphi[:,4] = np.multiply(X[:,0],X[:,0])\n",
    "    varphi[:,5] = np.multiply(X[:,1],X[:,1])\n",
    "    if disp:\n",
    "        print('The matrix varphi(X)=[1 sqrt(2)*x1 sqrt(2)x2 sqrt(2)*x1*x2 x1*x1 x2*x2]:')\n",
    "        print(varphi)\n",
    "        print('-----------------')\n",
    "    return varphi\n",
    "\n",
    "# Function to solve directly from the lifted space\n",
    "def directfunction(w, y, X, lambdaval,disp=False):\n",
    "    n = len(X[:,0])\n",
    "    varphi = varphifunction(X,disp=disp)\n",
    "    varphi_transp = np.transpose(varphi)\n",
    "    lambdaI = n * lambdaval * np.identity(len(w))\n",
    "    xmatrix = np.dot(varphi_transp, varphi)\n",
    "    xmatrix = xmatrix + lambdaI\n",
    "    yvector = np.dot(varphi_transp,y)\n",
    "    w = LA.solve(xmatrix,yvector)\n",
    "    if disp:\n",
    "        print('lambda=',lambdaval)\n",
    "        print('-----------------')\n",
    "        print('The matrix varphi(X)^T:')\n",
    "        print(varphi_transp)\n",
    "        print('-----------------')\n",
    "        print('The matrix n*lambda*I:')\n",
    "        print(lambdaI)\n",
    "        print('-----------------')\n",
    "        print('The vector varphi(X)^T*y:')\n",
    "        print(yvector)\n",
    "        print('-----------------')\n",
    "    return w\n",
    "\n",
    "# --------------------------------------\n",
    "\n",
    "# Function to construct the kernel matrix K_i,j = (<varphi(x_i),varphi(x_j)>+1)^2 for the quadratic problem\n",
    "def kernelfunction(X,disp=False):\n",
    "    if disp:\n",
    "        print('X=[x1 x2] is:')\n",
    "        print(X)\n",
    "        print('-----------------')\n",
    "    # Form the matrix in a loop for demonstration purposes\n",
    "    K = np.zeros(shape=(len(X[:,0]),len(X[:,0])))\n",
    "    sizes = K.shape\n",
    "    for i in range(0,sizes[0]):\n",
    "        for j in range(0,sizes[1]):\n",
    "            K[i,j] = np.power(np.dot(X[i,:],X[j,:]) + 1,2)\n",
    "    if disp:\n",
    "        print('The kernel matrix K:')\n",
    "        print(K)\n",
    "        print('-----------------')\n",
    "        print('The size of K is ', sizes)\n",
    "    return K\n",
    "\n",
    "# Function to solve for the coefficients for the kernel matrix method\n",
    "def kernelmethodfunction(y, X, lambdaval,disp=False):\n",
    "    if disp:\n",
    "        print('lambda=',lambdaval)\n",
    "        print('-----------------')\n",
    "    K = kernelfunction(X,disp=disp)\n",
    "    n = len(X[:,0])\n",
    "    lambdaI = lambdaval * np.identity(n) * n\n",
    "    a = LA.solve(K+lambdaI,y)\n",
    "    return a\n",
    "\n",
    "# Function to evaluate y=Ka, using only the training data\n",
    "def evalwithkernelfunction(a, X):\n",
    "    K = kernelfunction(X)\n",
    "    y = np.dot(K, a)\n",
    "    return y\n",
    "\n",
    "# Function to evaluate y=Ka, using a new test point xstar\n",
    "def evalpointwithkernelfunction(a, xstar, X):\n",
    "    # Make the projection vector k(x*,X)\n",
    "    k = np.zeros((len(X[:,0]),1))\n",
    "    for i in range(0,len(X[:,0])):\n",
    "        k[i] = np.power(np.dot(xstar,X[i,:]) + 1,2)\n",
    "    y = np.dot(np.transpose(k), a)\n",
    "    return y\n",
    "\n",
    "# --------------------------------------"
   ]
  },
  {
   "cell_type": "code",
   "execution_count": 3,
   "metadata": {},
   "outputs": [],
   "source": [
    "# Generate some data \n",
    "# --------------------------------------\n",
    "\n",
    "# Choose ten normally distributed random points for x1 and x2\n",
    "npnts = 10\n",
    "X = np.random.uniform(size=(npnts,2),high=1,low=-1)"
   ]
  },
  {
   "cell_type": "code",
   "execution_count": null,
   "metadata": {},
   "outputs": [],
   "source": []
  },
  {
   "cell_type": "code",
   "execution_count": 4,
   "metadata": {},
   "outputs": [
    {
     "name": "stdout",
     "output_type": "stream",
     "text": [
      "[ 1.137 -1.387 -2.495  0.634  2.101  0.372  1.177  0.735  3.581  1.883]\n"
     ]
    }
   ],
   "source": [
    "\n",
    "# Create a polynomial, p(x1,x2) = \\sum_{i,j} c_{i,j} * x1^i * x2^j\n",
    "coeffs = [[1,1,1,1,1],[2,2,2,2,2]]\n",
    "y_poly = np.polynomial.polynomial.polyval2d(X[:,0],X[:,1],coeffs)"
   ]
  },
  {
   "cell_type": "code",
   "execution_count": 5,
   "metadata": {},
   "outputs": [
    {
     "name": "stdout",
     "output_type": "stream",
     "text": [
      "[ 1.138 -1.379 -2.504  0.641  2.099  0.378  1.182  0.733  3.588  1.875]\n"
     ]
    }
   ],
   "source": [
    "# Add some white noise to the polynomial\n",
    "noise = random.normal(0, 1.0, npnts)\n",
    "noise_intensity = 100\n",
    "y_poly = y_poly + np.divide(noise, noise_intensity)"
   ]
  },
  {
   "cell_type": "code",
   "execution_count": 6,
   "metadata": {},
   "outputs": [
    {
     "name": "stdout",
     "output_type": "stream",
     "text": [
      "This is the data we will use\n",
      "=================\n",
      "X data:\n",
      "[[ 0.212 -0.867]\n",
      " [-0.899  0.434]\n",
      " [-0.996  0.647]\n",
      " [-0.164 -0.061]\n",
      " [ 0.805 -0.873]\n",
      " [-0.226 -0.672]\n",
      " [ 0.123 -0.97 ]\n",
      " [ 0.043 -0.556]\n",
      " [ 0.246  0.622]\n",
      " [ 0.613 -0.907]]\n",
      "-----------------\n",
      "y data:\n",
      "[ 1.138 -1.379 -2.504  0.641  2.099  0.378  1.182  0.733  3.588  1.875]\n",
      "-----------------\n",
      "The matrix varphi(X)=[1 sqrt(2)*x1 sqrt(2)x2 sqrt(2)*x1*x2 x1*x1 x2*x2]:\n",
      "[[ 1.     0.3   -1.226 -0.26   0.045  0.752]\n",
      " [ 1.    -1.271  0.613 -0.551  0.808  0.188]\n",
      " [ 1.    -1.409  0.915 -0.912  0.993  0.419]\n",
      " [ 1.    -0.232 -0.086  0.014  0.027  0.004]\n",
      " [ 1.     1.139 -1.235 -0.994  0.648  0.762]\n",
      " [ 1.    -0.32  -0.951  0.215  0.051  0.452]\n",
      " [ 1.     0.175 -1.372 -0.169  0.015  0.941]\n",
      " [ 1.     0.061 -0.786 -0.034  0.002  0.309]\n",
      " [ 1.     0.348  0.88   0.216  0.06   0.387]\n",
      " [ 1.     0.867 -1.282 -0.786  0.376  0.822]]\n",
      "-----------------\n"
     ]
    }
   ],
   "source": [
    "\n",
    "# Initial coefficients for yfunction\n",
    "w0 = np.array([1,1,1,1,1,1])\n",
    "\n",
    "print('This is the data we will use')\n",
    "print('=================')\n",
    "print('X data:')\n",
    "print(X)\n",
    "print('-----------------')\n",
    "\n",
    "print('y data:')\n",
    "print(y_poly)\n",
    "print('-----------------')\n",
    "\n",
    "# The matrix varphi(X) = [1 x1 x2 x1*x2 x1*x1 x2*x2]\n",
    "varphi = varphifunction(X)"
   ]
  },
  {
   "cell_type": "code",
   "execution_count": 20,
   "metadata": {},
   "outputs": [
    {
     "name": "stdout",
     "output_type": "stream",
     "text": [
      "First solve using least-squares loss with Tikonhov regularization:\n",
      "=================\n",
      "lambda= 1\n",
      "-----------------\n",
      "w_ls= [ 0.335  0.601 -0.2    0.106 -0.12   0.209]\n",
      "-----------------\n"
     ]
    }
   ],
   "source": [
    "# Solve using least squares\n",
    "# --------------------------------------\n",
    "\n",
    "print('First solve using least-squares loss with Tikonhov regularization:')\n",
    "print('=================')\n",
    "\n",
    "# Regularization parameter lambda\n",
    "lambdaval = 1\n",
    "print('lambda=',lambdaval)\n",
    "print('-----------------')\n",
    "\n",
    "res_1 = least_squares(lossfunction, w0, args=(y_poly, X, lambdaval))\n",
    "w_ls = res_1.x\n",
    "print('w_ls=',w_ls)\n",
    "print('-----------------')\n",
    "\n",
    "# Solve with smaller lambda\n",
    "lambdaval2 = 0.01\n",
    "res_2 = least_squares(lossfunction, w0, args=(y_poly, X, lambdaval2))\n",
    "w_ls2 = res_2.x\n"
   ]
  },
  {
   "cell_type": "code",
   "execution_count": 21,
   "metadata": {},
   "outputs": [
    {
     "name": "stdout",
     "output_type": "stream",
     "text": [
      "Now solve using lifted space:\n",
      "=================\n",
      "The matrix varphi(X)=[1 sqrt(2)*x1 sqrt(2)x2 sqrt(2)*x1*x2 x1*x1 x2*x2]:\n",
      "[[ 1.     0.3   -1.226 -0.26   0.045  0.752]\n",
      " [ 1.    -1.271  0.613 -0.551  0.808  0.188]\n",
      " [ 1.    -1.409  0.915 -0.912  0.993  0.419]\n",
      " [ 1.    -0.232 -0.086  0.014  0.027  0.004]\n",
      " [ 1.     1.139 -1.235 -0.994  0.648  0.762]\n",
      " [ 1.    -0.32  -0.951  0.215  0.051  0.452]\n",
      " [ 1.     0.175 -1.372 -0.169  0.015  0.941]\n",
      " [ 1.     0.061 -0.786 -0.034  0.002  0.309]\n",
      " [ 1.     0.348  0.88   0.216  0.06   0.387]\n",
      " [ 1.     0.867 -1.282 -0.786  0.376  0.822]]\n",
      "-----------------\n",
      "lambda= 1\n",
      "-----------------\n",
      "The matrix varphi(X)^T:\n",
      "[[ 1.     1.     1.     1.     1.     1.     1.     1.     1.     1.   ]\n",
      " [ 0.3   -1.271 -1.409 -0.232  1.139 -0.32   0.175  0.061  0.348  0.867]\n",
      " [-1.226  0.613  0.915 -0.086 -1.235 -0.951 -1.372 -0.786  0.88  -1.282]\n",
      " [-0.26  -0.551 -0.912  0.014 -0.994  0.215 -0.169 -0.034  0.216 -0.786]\n",
      " [ 0.045  0.808  0.993  0.027  0.648  0.051  0.015  0.002  0.06   0.376]\n",
      " [ 0.752  0.188  0.419  0.004  0.762  0.452  0.941  0.309  0.387  0.822]]\n",
      "-----------------\n",
      "The matrix n*lambda*I:\n",
      "[[10.  0.  0.  0.  0.  0.]\n",
      " [ 0. 10.  0.  0.  0.  0.]\n",
      " [ 0.  0. 10.  0.  0.  0.]\n",
      " [ 0.  0.  0. 10.  0.  0.]\n",
      " [ 0.  0.  0.  0. 10.  0.]\n",
      " [ 0.  0.  0.  0.  0. 10.]]\n",
      "-----------------\n",
      "The vector varphi(X)^T*y:\n",
      "[ 7.753 10.868 -8.986 -0.173 -1.21   5.591]\n",
      "-----------------\n",
      "w_lifted= [ 0.335  0.601 -0.2    0.106 -0.12   0.209]\n",
      "-----------------\n"
     ]
    }
   ],
   "source": [
    "# Solve using direct method\n",
    "# --------------------------------------\n",
    "\n",
    "print('Now solve using lifted space:')\n",
    "print('=================')\n",
    "w_lifted = directfunction(w0, y_poly, X, lambdaval,disp=True)\n",
    "print('w_lifted=',w_lifted)\n",
    "print('-----------------')\n",
    "\n",
    "# Solve with smaller lambda\n",
    "w_lifted2 = directfunction(w0, y_poly, X, lambdaval2,disp=False)\n"
   ]
  },
  {
   "cell_type": "code",
   "execution_count": 22,
   "metadata": {},
   "outputs": [
    {
     "name": "stdout",
     "output_type": "stream",
     "text": [
      "Now solve using kernel matrix:\n",
      "=================\n",
      "a_km= [ 0.025 -0.071 -0.168  0.043  0.086 -0.007  0.029  0.014  0.312  0.072]\n",
      "-----------------\n"
     ]
    }
   ],
   "source": [
    "# Solve using kernel method\n",
    "# --------------------------------------\n",
    "\n",
    "print('Now solve using kernel matrix:')\n",
    "print('=================')\n",
    "a_km = kernelmethodfunction(y_poly, X, lambdaval)\n",
    "print('a_km=',a_km)\n",
    "print('-----------------')\n",
    "\n",
    "# Solve with smaller lambda\n",
    "a_km2 = kernelmethodfunction(y_poly, X, lambdaval2)\n"
   ]
  },
  {
   "cell_type": "code",
   "execution_count": 23,
   "metadata": {},
   "outputs": [
    {
     "name": "stdout",
     "output_type": "stream",
     "text": [
      "Method | lambda | coefficients, w\n",
      "---------------------------------\n",
      "DS     | 1.0    | [ 0.335  0.601 -0.2    0.106 -0.12   0.209]\n",
      "LS     | 1.0    | [ 0.335  0.601 -0.2    0.106 -0.12   0.209]\n",
      "\n",
      "Kernel | lambda | coefficients, a\n",
      "---------------------------------\n",
      "KER   | 1.0    | [ 0.025 -0.071 -0.168  0.043  0.086 -0.007  0.029  0.014  0.312  0.072]\n",
      "\n",
      "Kernel | lambda | coefficients, w vs varphi(X)^T a\n",
      "--------------------------------------------------\n",
      "ES     | 1.0    | [ 0.335  0.601 -0.2    0.106 -0.12   0.209]\n",
      "KER    | 1.0    | [ 0.335  0.601 -0.2    0.106 -0.12   0.209]\n"
     ]
    }
   ],
   "source": [
    "# Coefficient comparison\n",
    "# --------------------------------------\n",
    "\n",
    "# Compare coefficients for direct and kernel methods\n",
    "print('Method | lambda | coefficients, w')\n",
    "print('---------------------------------')\n",
    "print('DS     | 1.0    | '+str(w_ls))\n",
    "print('LS     | 1.0    | '+str(w_lifted))\n",
    "#print('LS     | 0.1    | ',w_ls2)\n",
    "#print('ES     | 0.1    | ',w_es2)\n",
    "print('')\n",
    "print('Kernel | lambda | coefficients, a')\n",
    "print('---------------------------------')\n",
    "print('KER   | 1.0    | '+str(a_km))\n",
    "#print('Quad   | 0.1    | ',a_km2)\n",
    "\n",
    "# Direct comparison of the kernel matrix coefficients and the expanded space ones\n",
    "print('')\n",
    "print('Kernel | lambda | coefficients, w vs varphi(X)^T a')\n",
    "print('--------------------------------------------------')\n",
    "print('ES     | 1.0    | '+str(w_lifted))\n",
    "print('KER    | 1.0    | '+str(np.dot(a_km,varphi)))\n",
    "#print('ES     | 0.1    | ',w_es2)\n",
    "#print('Quad   | 0.1    | ',np.dot(a_km2,varphi))"
   ]
  },
  {
   "cell_type": "code",
   "execution_count": 24,
   "metadata": {},
   "outputs": [],
   "source": [
    "# Pointwise comparison\n",
    "# --------------------------------------\n",
    "\n",
    "# Dot product\n",
    "y_ls_line = varphi @ w_ls\n",
    "y_ls_line2 = varphi @ w_ls2\n",
    "y_lifted_line = varphi @ w_lifted\n",
    "y_lifted_line2 = varphi @ w_lifted2\n",
    "\n",
    "# Evaluate kernel with coefficients a_km\n",
    "y_km_line = evalwithkernelfunction(a_km, X)\n",
    "y_km_line2 = evalwithkernelfunction(a_km2, X)\n"
   ]
  },
  {
   "cell_type": "code",
   "execution_count": 26,
   "metadata": {},
   "outputs": [
    {
     "data": {
      "text/plain": [
       "array([[0.904, 0.904]])"
      ]
     },
     "execution_count": 26,
     "metadata": {},
     "output_type": "execute_result"
    }
   ],
   "source": [
    "np.column_stack([x1_grid[i,j], x2_grid[i,j]])"
   ]
  },
  {
   "cell_type": "code",
   "execution_count": null,
   "metadata": {},
   "outputs": [],
   "source": []
  },
  {
   "cell_type": "code",
   "execution_count": 27,
   "metadata": {},
   "outputs": [
    {
     "data": {
      "application/vnd.jupyter.widget-view+json": {
       "model_id": "8083a9ab1f7a4529815dd5f276465abe",
       "version_major": 2,
       "version_minor": 0
      },
      "text/plain": [
       "FigureCanvasNbAgg()"
      ]
     },
     "metadata": {},
     "output_type": "display_data"
    },
    {
     "data": {
      "application/vnd.jupyter.widget-view+json": {
       "model_id": "026d1dc8578c4e3c9824cadd103574fe",
       "version_major": 2,
       "version_minor": 0
      },
      "text/plain": [
       "FigureCanvasNbAgg()"
      ]
     },
     "metadata": {},
     "output_type": "display_data"
    }
   ],
   "source": [
    "# Plot the comparison for least squares\n",
    "# -------------------------------------\n",
    "\n",
    "# Generate a grid of points to plot the surface on\n",
    "inc = 0.1\n",
    "x1_pnts = np.arange(min(min(x1),min(x2)), max(max(x1),max(x2))+inc, inc)\n",
    "x2_pnts = np.arange(min(min(x1),min(x2)), max(max(x1),max(x2))+inc, inc)\n",
    "x1_grid, x2_grid = np.meshgrid(x1_pnts, x2_pnts, sparse=False, indexing='ij')\n",
    "sizes=x1_grid.shape\n",
    "\n",
    "# Initialise solution vectors\n",
    "y_ls = np.zeros((sizes[0],sizes[1]))\n",
    "y_ls2 = np.zeros((sizes[0],sizes[1]))\n",
    "\n",
    "for i in range(0,sizes[0]):\n",
    "    for j in range(0,sizes[1]):\n",
    "        # Generate y_ls from the least squares coefficients (w_ls)\n",
    "        y_ls[i,j] = yfunction(np.column_stack([x1_grid[i,j], x2_grid[i,j]]), w_ls)\n",
    "        # Generate y_ls2 from the least squares coefficients (w_ls2)\n",
    "        y_ls2[i,j] = yfunction(np.column_stack([x1_grid[i,j], x2_grid[i,j]]), w_ls2)\n",
    "\n",
    "# big lambda\n",
    "        \n",
    "# Plot the surface and draw on the data (x1, x2, y_poly)\n",
    "fig = plt.figure()\n",
    "ax = fig.gca(projection='3d')\n",
    "surf = ax.plot_surface(x1_grid, x2_grid, y_ls, cmap=cm.coolwarm, linewidth=0, antialiased=False, alpha=0.7)\n",
    "ax.plot(x1, x2, y_poly, linewidth=0, marker=\"x\", color=\"black\")\n",
    "fig.colorbar(surf, shrink=0.5, aspect=5)\n",
    "ax.set(xlabel=r'$x_1$', ylabel=r'$x_2$', zlabel=r'$y(x_1,x_2)$', title=r'Surface for least squares fit vs data with $\\lambda=$ %.2f' %lambdaval)\n",
    "ax.grid()\n",
    "start, end = ax.get_xlim()\n",
    "plt.show()\n",
    "\n",
    "# small lambda\n",
    "\n",
    "# Plot the surface and draw on the data (x1, x2, y_poly)\n",
    "fig = plt.figure()\n",
    "ax = fig.gca(projection='3d')\n",
    "surf = ax.plot_surface(x1_grid, x2_grid, y_ls2, cmap=cm.coolwarm, linewidth=0, antialiased=False, alpha=0.7)\n",
    "ax.plot(x1, x2, y_poly, linewidth=0, marker=\"x\", color=\"black\")\n",
    "fig.colorbar(surf, shrink=0.5, aspect=5)\n",
    "ax.set(xlabel=r'$x_1$', ylabel=r'$x_2$', zlabel=r'$y(x_1,x_2)$', title=r'Surface for least squares fit vs data with $\\lambda=$ %.2f' %lambdaval2)\n",
    "ax.grid()\n",
    "start, end = ax.get_xlim()\n",
    "plt.show()"
   ]
  },
  {
   "cell_type": "code",
   "execution_count": 28,
   "metadata": {},
   "outputs": [
    {
     "data": {
      "application/vnd.jupyter.widget-view+json": {
       "model_id": "b43b165a9e9c4eebae9cde40426ef588",
       "version_major": 2,
       "version_minor": 0
      },
      "text/plain": [
       "FigureCanvasNbAgg()"
      ]
     },
     "metadata": {},
     "output_type": "display_data"
    },
    {
     "data": {
      "application/vnd.jupyter.widget-view+json": {
       "model_id": "fcf592d65bcc4ced83fb3cef3b952692",
       "version_major": 2,
       "version_minor": 0
      },
      "text/plain": [
       "FigureCanvasNbAgg()"
      ]
     },
     "metadata": {},
     "output_type": "display_data"
    }
   ],
   "source": [
    "# Plot the comparison for direct solve of lifted space\n",
    "# ------------------------------------------------------\n",
    "\n",
    "# Initialise solution vectors\n",
    "y_es = np.zeros((sizes[0],sizes[1]))\n",
    "y_es2 = np.zeros((sizes[0],sizes[1]))\n",
    "\n",
    "for i in range(0,sizes[0]):\n",
    "    for j in range(0,sizes[1]):\n",
    "        # Generate y_es from the lifted space coefficients (w_es)\n",
    "        y_es[i,j] = yfunction(np.column_stack([x1_grid[i,j], x2_grid[i,j]]), w_lifted)\n",
    "        # Generate y_es2 from the lifted space coefficients (w_es2)\n",
    "        y_es2[i,j] = yfunction(np.column_stack([x1_grid[i,j], x2_grid[i,j]]), w_lifted2)\n",
    "        \n",
    "# big lambda\n",
    "        \n",
    "# Plot the surface and draw on the data (x1, x2, y_poly)\n",
    "fig = plt.figure()\n",
    "ax = fig.gca(projection='3d')\n",
    "surf = ax.plot_surface(x1_grid, x2_grid, y_es, cmap=cm.coolwarm, linewidth=0, antialiased=False, alpha=0.7)\n",
    "ax.plot(x1, x2, y_poly, linewidth=0, marker=\"x\", color=\"black\")\n",
    "fig.colorbar(surf, shrink=0.5, aspect=5)\n",
    "ax.set(xlabel=r'$x_1$', ylabel=r'$x_2$', zlabel=r'$y(x_1,x_2)$', title=r'Surface for lifted space fit vs data with $\\lambda=$ %.2f' %lambdaval)\n",
    "ax.grid()\n",
    "start, end = ax.get_xlim()\n",
    "plt.show()\n",
    "\n",
    "# small lambda\n",
    "\n",
    "# Plot the surface and draw on the data (x1, x2, y_poly)\n",
    "fig = plt.figure()\n",
    "ax = fig.gca(projection='3d')\n",
    "surf = ax.plot_surface(x1_grid, x2_grid, y_es2, cmap=cm.coolwarm, linewidth=0, antialiased=False, alpha=0.7)\n",
    "ax.plot(x1, x2, y_poly, linewidth=0, marker=\"x\", color=\"black\")\n",
    "fig.colorbar(surf, shrink=0.5, aspect=5)\n",
    "ax.set(xlabel=r'$x_1$', ylabel=r'$x_2$', zlabel=r'$y(x_1,x_2)$', title=r'Surface for lifted space fit vs data with $\\lambda=$ %.2f' %lambdaval2)\n",
    "ax.grid()\n",
    "start, end = ax.get_xlim()\n",
    "plt.show()"
   ]
  },
  {
   "cell_type": "code",
   "execution_count": 29,
   "metadata": {},
   "outputs": [],
   "source": [
    "# Generate data to compare for kernel matrix method\n",
    "# -------------------------------------------------\n",
    "\n",
    "Xstar = [0,0]\n",
    "\n",
    "# Initialise solution vectors\n",
    "y_km = np.zeros((sizes[0],sizes[1]))\n",
    "y_km2 = np.zeros((sizes[0],sizes[1]))\n",
    "\n",
    "for i in range(0,sizes[0]):\n",
    "    for j in range(0,sizes[1]):\n",
    "        # Xstar=[x1 x2] value at corrent grid point\n",
    "        Xstar[0] = x1_grid[i,j]\n",
    "        Xstar[1] = x2_grid[i,j]\n",
    "        # Generate y_km from the kernel method coefficients (w_km)\n",
    "        y_km[i,j] = evalpointwithkernelfunction(a_km, Xstar, X)\n",
    "        # Generate y_km2 from the kernel method coefficients (w_km2)\n",
    "        y_km2[i,j] = evalpointwithkernelfunction(a_km2, Xstar,X)"
   ]
  },
  {
   "cell_type": "code",
   "execution_count": 30,
   "metadata": {},
   "outputs": [
    {
     "data": {
      "text/plain": [
       "array([ 0.025, -0.071, -0.168,  0.043,  0.086, -0.007,  0.029,  0.014,\n",
       "        0.312,  0.072])"
      ]
     },
     "execution_count": 30,
     "metadata": {},
     "output_type": "execute_result"
    }
   ],
   "source": [
    "a_km"
   ]
  },
  {
   "cell_type": "code",
   "execution_count": 31,
   "metadata": {},
   "outputs": [
    {
     "data": {
      "application/vnd.jupyter.widget-view+json": {
       "model_id": "68e2d16775284c0786302f071e3fe39c",
       "version_major": 2,
       "version_minor": 0
      },
      "text/plain": [
       "FigureCanvasNbAgg()"
      ]
     },
     "metadata": {},
     "output_type": "display_data"
    },
    {
     "data": {
      "application/vnd.jupyter.widget-view+json": {
       "model_id": "2f8a68f13e6c44c0bf15d122c90622eb",
       "version_major": 2,
       "version_minor": 0
      },
      "text/plain": [
       "FigureCanvasNbAgg()"
      ]
     },
     "metadata": {},
     "output_type": "display_data"
    }
   ],
   "source": [
    "# Plot the comparison for kernel matrix method\n",
    "# --------------------------------------------\n",
    "\n",
    "# big lambda\n",
    "\n",
    "# Plot the surface and draw on the data (x1, x2, y_poly)\n",
    "fig = plt.figure()\n",
    "ax = fig.gca(projection='3d')\n",
    "surf = ax.plot_surface(x1_grid, x2_grid, y_km, cmap=cm.coolwarm, linewidth=0, antialiased=False, alpha=0.7)\n",
    "ax.plot(x1, x2, y_poly, linewidth=0, marker=\"x\", color=\"black\")\n",
    "fig.colorbar(surf, shrink=0.5, aspect=5)\n",
    "ax.set(xlabel=r'$x_1$', ylabel=r'$x_2$', zlabel=r'$y(x_1,x_2)$', title=r'Surface for kernel matrix method fit vs data with $\\lambda=$ %.2f' %lambdaval)\n",
    "ax.grid()\n",
    "start, end = ax.get_xlim()\n",
    "plt.show()\n",
    "        \n",
    "# small lambda\n",
    "    \n",
    "# Plot the surface and draw on the data (x1, x2, y_poly)\n",
    "fig = plt.figure()\n",
    "ax = fig.gca(projection='3d')\n",
    "surf = ax.plot_surface(x1_grid, x2_grid, y_km2, cmap=cm.coolwarm, linewidth=0, antialiased=False, alpha=0.7)\n",
    "ax.plot(x1, x2, y_poly, linewidth=0, marker=\"x\", color=\"black\")\n",
    "fig.colorbar(surf, shrink=0.5, aspect=5)\n",
    "ax.set(xlabel=r'$x_1$', ylabel=r'$x_2$', zlabel=r'$y(x_1,x_2)$', title=r'Surface for kernel matrix method fit vs data with $\\lambda=$ %.2f' %lambdaval2)\n",
    "ax.grid()\n",
    "start, end = ax.get_xlim()\n",
    "plt.show()"
   ]
  },
  {
   "cell_type": "code",
   "execution_count": 32,
   "metadata": {},
   "outputs": [
    {
     "data": {
      "application/vnd.jupyter.widget-view+json": {
       "model_id": "3a5fa38f76db4194ae3429a105d36cbe",
       "version_major": 2,
       "version_minor": 0
      },
      "text/plain": [
       "FigureCanvasNbAgg()"
      ]
     },
     "metadata": {},
     "output_type": "display_data"
    },
    {
     "data": {
      "application/vnd.jupyter.widget-view+json": {
       "model_id": "fcd4201e6bba47a0904882897f246ffb",
       "version_major": 2,
       "version_minor": 0
      },
      "text/plain": [
       "FigureCanvasNbAgg()"
      ]
     },
     "metadata": {},
     "output_type": "display_data"
    }
   ],
   "source": [
    "# Compare the three solution methods\n",
    "# ----------------------------------\n",
    "\n",
    "# big lambda\n",
    "\n",
    "# Plot the surface and draw on the data (x1, x2, y_poly)\n",
    "fig = plt.figure()\n",
    "ax = fig.gca(projection='3d')\n",
    "surf = ax.plot_surface(x1_grid, x2_grid, y_ls, color=\"red\", linewidth=0, antialiased=False, alpha=0.3)\n",
    "surf = ax.plot_surface(x1_grid, x2_grid, y_es, color=\"blue\", linewidth=0, antialiased=False, alpha=0.3)\n",
    "surf = ax.plot_surface(x1_grid, x2_grid, y_km, color=\"green\", linewidth=0, antialiased=False, alpha=0.3)\n",
    "ax.plot(x1, x2, y_poly, linewidth=0, marker=\"x\", color=\"black\")\n",
    "ax.set(xlabel=r'$x_1$', ylabel=r'$x_2$', zlabel=r'$y(x_1,x_2)$', title=r'Surface for all fits vs data with $\\lambda = 1.0$')\n",
    "ax.grid()\n",
    "start, end = ax.get_xlim()\n",
    "plt.show()\n",
    "\n",
    "# small lambda\n",
    "\n",
    "# Plot the surface and draw on the data (x1, x2, y_poly)\n",
    "fig = plt.figure()\n",
    "ax = fig.gca(projection='3d')\n",
    "surf = ax.plot_surface(x1_grid, x2_grid, y_ls2, color=\"red\", linewidth=0, antialiased=False, alpha=0.3)\n",
    "surf = ax.plot_surface(x1_grid, x2_grid, y_es2, color=\"blue\", linewidth=0, antialiased=False, alpha=0.3)\n",
    "surf = ax.plot_surface(x1_grid, x2_grid, y_km2, color=\"green\", linewidth=0, antialiased=False, alpha=0.3)\n",
    "ax.plot(x1, x2, y_poly, linewidth=0, marker=\"x\", color=\"black\")\n",
    "ax.set(xlabel=r'$x_1$', ylabel=r'$x_2$', zlabel=r'$y(x_1,x_2)$', title=r'Surface for all fits vs data with $\\lambda = 0.1$')\n",
    "ax.grid()\n",
    "start, end = ax.get_xlim()\n",
    "plt.show()"
   ]
  },
  {
   "cell_type": "code",
   "execution_count": null,
   "metadata": {},
   "outputs": [],
   "source": []
  },
  {
   "cell_type": "code",
   "execution_count": null,
   "metadata": {},
   "outputs": [],
   "source": []
  },
  {
   "cell_type": "code",
   "execution_count": 25,
   "metadata": {},
   "outputs": [
    {
     "data": {
      "application/vnd.jupyter.widget-view+json": {
       "model_id": "fd845feb057f41cabd64c4175358532d",
       "version_major": 2,
       "version_minor": 0
      },
      "text/plain": [
       "FigureCanvasNbAgg()"
      ]
     },
     "metadata": {},
     "output_type": "display_data"
    },
    {
     "data": {
      "application/vnd.jupyter.widget-view+json": {
       "model_id": "75d34309d2664304b88d2c54db740a0c",
       "version_major": 2,
       "version_minor": 0
      },
      "text/plain": [
       "FigureCanvasNbAgg()"
      ]
     },
     "metadata": {},
     "output_type": "display_data"
    }
   ],
   "source": [
    "# Plot the comparison\n",
    "# -------------------\n",
    "\n",
    "# big lambda\n",
    "x1,x2 = X[:,0],X[:,1]\n",
    "fig = plt.figure()\n",
    "ax = fig.gca(projection='3d')\n",
    "ax.plot(x1, x2, y_poly, linewidth=0, marker=\"x\", color=\"black\")\n",
    "ax.plot(x1, x2, y_ls_line, linewidth=0, marker=\"P\", color=\"red\", alpha=0.5)\n",
    "ax.plot(x1, x2, y_lifted_line, linewidth=0, marker=\"o\", color=\"blue\", alpha=0.5)\n",
    "ax.plot(x1, x2, y_km_line, linewidth=0, marker=\"p\", color=\"green\", alpha=0.5)\n",
    "ax.set(xlabel=r'$x_1$', ylabel=r'$x_2$', zlabel=r'$y(x_1,x_2)$', title=r'Fits vs data for $\\lambda=$ %.2f' %lambdaval)\n",
    "ax.legend(('Data','LS','Lifted','KM'))\n",
    "ax.grid()\n",
    "start, end = ax.get_xlim()\n",
    "plt.show()\n",
    "\n",
    "# small lambda\n",
    "\n",
    "fig = plt.figure()\n",
    "ax = fig.gca(projection='3d')\n",
    "ax.plot(x1, x2, y_poly, linewidth=0, marker=\"x\", color=\"black\")\n",
    "ax.plot(x1, x2, y_ls_line2, linewidth=0, marker=\"P\", color=\"red\", alpha=0.5)\n",
    "ax.plot(x1, x2, y_lifted_line2, linewidth=0, marker=\"o\", color=\"blue\", alpha=0.5)\n",
    "ax.plot(x1, x2, y_km_line2, linewidth=0, marker=\"p\", color=\"green\", alpha=0.5)\n",
    "ax.set(xlabel=r'$x_1$', ylabel=r'$x_2$', zlabel=r'$y(x_1,x_2)$', title=r'Fits vs data for $\\lambda=$ %.2f' %lambdaval2)\n",
    "ax.legend(('Data','LS','Lifted','KM'))\n",
    "ax.grid()\n",
    "start, end = ax.get_xlim()\n",
    "\n",
    "# This might not be necessary - it seemed like there were too many ticks at one stage\n",
    "# stepsize=0.25\n",
    "# ax.xaxis.set_ticks(np.arange(start, end, stepsize))\n",
    "# ax.yaxis.set_ticks(np.arange(start, end, stepsize))\n",
    "\n",
    "plt.show()"
   ]
  }
 ],
 "metadata": {
  "kernelspec": {
   "display_name": "Python 3",
   "language": "python",
   "name": "python3"
  },
  "language_info": {
   "codemirror_mode": {
    "name": "ipython",
    "version": 3
   },
   "file_extension": ".py",
   "mimetype": "text/x-python",
   "name": "python",
   "nbconvert_exporter": "python",
   "pygments_lexer": "ipython3",
   "version": "3.7.2"
  }
 },
 "nbformat": 4,
 "nbformat_minor": 2
}
