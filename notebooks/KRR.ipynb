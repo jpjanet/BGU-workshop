{
 "cells": [
  {
   "cell_type": "code",
   "execution_count": 1,
   "metadata": {
    "collapsed": true
   },
   "outputs": [],
   "source": [
    "import pandas as pd\n",
    "import numpy as np\n",
    "import scipy as sp\n",
    "import matplotlib.pyplot as plt\n",
    "import sklearn as sk\n",
    "import os, glob, shutil, math, time\n",
    "\n",
    "########################################################################\n",
    "# This section rescales the data. For most ML models, we want to       #\n",
    "# rescale so that we are analyzing data consistently (scale invariant) #\n",
    "########################################################################\n",
    "def data_rescale(scaled_dat,train_mean,train_var):\n",
    "    d = np.shape(train_mean)[0]\n",
    "    #print('unnormalizing with number of dimensions = ' +str(d))\n",
    "    dat = (np.multiply(scaled_dat,np.sqrt(train_var))) + train_mean.T\n",
    "    return(dat)\n",
    "############################################################################\n",
    "# Opposite to the above, normalizes the data based on some training values #\n",
    "############################################################################\n",
    "def data_normalize(data,train_mean,train_var):\n",
    "    d = np.shape(train_mean)[0]\n",
    "    print('normalizing with number of dimensions = ' +str(d))\n",
    "    scaled_dat = np.divide((data - train_mean.T),np.sqrt(train_var),)\n",
    "    return(scaled_dat)\n",
    "    \n"
   ]
  },
  {
   "cell_type": "code",
   "execution_count": 2,
   "metadata": {
    "collapsed": true
   },
   "outputs": [],
   "source": [
    "data = pd.read_csv(\"../Data/QM9/mu-qm-file.csv\")"
   ]
  },
  {
   "cell_type": "code",
   "execution_count": 3,
   "metadata": {
    "collapsed": true
   },
   "outputs": [],
   "source": [
    "## seed \n",
    "np.random.seed(4)\n",
    "# get random partition\n",
    "msk = np.random.rand(np.shape(data)[0]) < 0.01\n",
    "\n",
    "\n",
    "# test and train split\n",
    "train_data = data[msk]\n",
    "test_data = data[~msk]"
   ]
  },
  {
   "cell_type": "code",
   "execution_count": 4,
   "metadata": {
    "collapsed": false
   },
   "outputs": [
    {
     "name": "stdout",
     "output_type": "stream",
     "text": [
      "['f-chi-0-all', 'f-chi-1-all', 'f-chi-2-all', 'f-chi-3-all', 'f-Z-0-all', 'f-Z-1-all', 'f-Z-2-all', 'f-Z-3-all', 'f-I-0-all', 'f-I-1-all', 'f-I-2-all', 'f-I-3-all', 'f-T-0-all', 'f-T-1-all', 'f-T-2-all', 'f-T-3-all', 'f-S-0-all', 'f-S-1-all', 'f-S-2-all', 'f-S-3-all']\n"
     ]
    }
   ],
   "source": [
    "# get \n",
    "feature_names=[]\n",
    "for ft in data.columns:\n",
    "    if ft.find('u0') ==-1  and ft.find('runs') ==-1 and ft.find('mu') ==-1:\n",
    "            feature_names.append(ft)\n",
    "print(feature_names)\n",
    "# feature_names = ['f-Z-0-all','f-chi-0-all']"
   ]
  },
  {
   "cell_type": "code",
   "execution_count": 5,
   "metadata": {
    "collapsed": false
   },
   "outputs": [
    {
     "name": "stdout",
     "output_type": "stream",
     "text": [
      "normalizing with number of dimensions = 20\n",
      "normalizing with number of dimensions = 1\n",
      "normalizing with number of dimensions = 20\n",
      "normalizing with number of dimensions = 1\n"
     ]
    }
   ],
   "source": [
    "# COFs\n",
    "train_data_y = train_data['u0']*627.529\n",
    "test_data_y = test_data['u0']*627.529\n",
    "# xvales\n",
    "train_data_x = train_data[feature_names].values\n",
    "test_data_x = test_data[feature_names].values\n",
    "## data generation\n",
    "m = np.shape(train_data_x)[0]\n",
    "d = np.shape(train_data_x)[1]\n",
    "p = 1\n",
    "# normalization\n",
    "train_var_x = np.var(train_data_x,0)\n",
    "train_mean_x = np.mean(train_data_x,0).reshape(d,1).squeeze()\n",
    "train_var_y = np.var(train_data_y,0).reshape(1)\n",
    "train_mean_y = np.mean(train_data_y,0).reshape(1)\n",
    "# scale\n",
    "scaled_train_data_x = data_normalize(train_data_x,train_mean_x,train_var_x)\n",
    "scaled_train_data_y = data_normalize(train_data_y,train_mean_y,train_var_y)\n",
    "scaled_test_data_x = data_normalize(test_data_x,train_mean_x,train_var_x)\n",
    "scaled_test_data_y = data_normalize(test_data_y,train_mean_y,train_var_y)"
   ]
  },
  {
   "cell_type": "code",
   "execution_count": 6,
   "metadata": {
    "collapsed": false
   },
   "outputs": [
    {
     "data": {
      "text/plain": [
       "LinearRegression(copy_X=True, fit_intercept=True, n_jobs=1, normalize=False)"
      ]
     },
     "execution_count": 6,
     "metadata": {},
     "output_type": "execute_result"
    }
   ],
   "source": [
    "from sklearn import linear_model\n",
    "\n",
    "#########################################\n",
    "# This is just simple linear regression #\n",
    "#########################################\n",
    "\n",
    "reg = linear_model.LinearRegression()\n",
    "reg.fit(scaled_train_data_x,scaled_train_data_y)"
   ]
  },
  {
   "cell_type": "code",
   "execution_count": 7,
   "metadata": {
    "collapsed": false
   },
   "outputs": [
    {
     "name": "stdout",
     "output_type": "stream",
     "text": [
      "linear model TRAIN error is 11.959184829 kcal/mol\n",
      "linear model TEST error is 12.34449048 kcal/mol\n"
     ]
    }
   ],
   "source": [
    "pred_train = data_rescale(reg.predict(scaled_train_data_x),train_mean_y,train_var_y)\n",
    "real_train =  data_rescale(scaled_train_data_y,train_mean_y,train_var_y)\n",
    "pred_test = data_rescale(reg.predict(scaled_test_data_x),train_mean_y,train_var_y)\n",
    "real_test =  data_rescale(scaled_test_data_y,train_mean_y,train_var_y)\n",
    "def rms(val):\n",
    "    return(np.sqrt(np.mean(np.power(val,2))))\n",
    "print('linear model TRAIN error is ' + str(rms(pred_train-real_train))+' kcal/mol')\n",
    "print('linear model TEST error is ' + str(rms(pred_test-real_test))+' kcal/mol')"
   ]
  },
  {
   "cell_type": "code",
   "execution_count": 8,
   "metadata": {
    "collapsed": false
   },
   "outputs": [
    {
     "data": {
      "text/plain": [
       "Text(0,0.5,'pred, kcal/mol')"
      ]
     },
     "execution_count": 8,
     "metadata": {},
     "output_type": "execute_result"
    },
    {
     "data": {
      "image/png": "[encoded data removed]",
      "text/plain": [
       "<Figure size 432x288 with 1 Axes>"
      ]
     },
     "metadata": {},
     "output_type": "display_data"
    }
   ],
   "source": [
    "plt.plot(real_test,pred_test,'rx')\n",
    "plt.plot(real_train,pred_train,'bo')\n",
    "plt.xlabel('real, kcal/mol')\n",
    "plt.ylabel('pred, kcal/mol')"
   ]
  },
  {
   "cell_type": "code",
   "execution_count": 9,
   "metadata": {
    "collapsed": true
   },
   "outputs": [],
   "source": [
    "from sklearn.model_selection import GridSearchCV\n",
    "from sklearn.kernel_ridge import KernelRidge"
   ]
  },
  {
   "cell_type": "code",
   "execution_count": null,
   "metadata": {
    "collapsed": false
   },
   "outputs": [
    {
     "name": "stdout",
     "output_type": "stream",
     "text": [
      "In KRR!\n"
     ]
    }
   ],
   "source": [
    "print('In KRR!')\n",
    "lambdas = np.array([0.001, 0.0001,0.00001,0.000001,0.0000001,0.00000001,0.000000001,0.0000000001])\n",
    "sigmas = np.array([1,0.1, 0.01, 0.005, 0.001, 0.0005, 0.0001, 0.00001, 0.000001, 0.0000001, 0.00000001])\n",
    "nus = np.array([1])\n",
    "\n",
    "tuned_parameters = [{'kernel': ['rbf'], 'gamma': sigmas, 'alpha': lambdas}]\n",
    "reshapedy = np.squeeze(scaled_train_data_y)\n",
    "\n",
    "fig, axs = plt.subplots(1,1, facecolor='w', edgecolor='k',squeeze=False)\n",
    "fig.subplots_adjust(hspace = .3, wspace= 1)\n",
    "axs = axs.ravel()\n",
    "clf = GridSearchCV(KernelRidge(), tuned_parameters, cv=10, scoring='neg_mean_absolute_error')\n",
    "clf.fit(scaled_train_data_x, reshapedy)\n",
    "\n",
    "print(\"Best parameters set found on development set:\")\n",
    "print(clf.best_params_)\n",
    "print(\"Grid scores on development set:\")\n",
    "means = clf.cv_results_['mean_test_score']\n",
    "stds = clf.cv_results_['std_test_score']\n",
    "\n",
    "scores = (-(clf.cv_results_['mean_test_score'].reshape(len(lambdas),len(sigmas))))*np.sqrt(train_var_y)\n",
    "im = axs[0].imshow(scores, interpolation='nearest', cmap=plt.cm.jet)\n",
    "axs[0].set_xticks(np.arange(len(sigmas)))\n",
    "axs[0].set_yticks(np.arange(len(lambdas)))\n",
    "axs[0].set_xticklabels(['{:g}'.format(float('{:.3g}'.format(j))) for j in tuned_parameters[0]['gamma']])\n",
    "axs[0].set_yticklabels(['{:g}'.format(float('{:.3g}'.format(j))) for j in tuned_parameters[0]['alpha']])\n",
    "axs[0].set_xlabel('Sigma Value')\n",
    "axs[0].set_ylabel('Lambda Value')\n",
    "for tick in axs[0].get_xticklabels():\n",
    "    tick.set_rotation(90)\n",
    "cbar = fig.colorbar(im, ax = axs[0], fraction=0.046, pad=0.04)#,boundaries = np.linspace(0.3, 0.8, 21))\n",
    "cbar.set_label('MAE (kcal/mol)')\n",
    "fig.suptitle('2D Hyperparameter Grid Search (KRR)')\n",
    "print('Chosen Alpha: ', clf.best_params_['alpha'])\n",
    "print('Chosen Gamma: ', clf.best_params_['gamma'])\n",
    "final_model = KernelRidge(kernel = 'rbf', alpha = clf.best_params_['alpha'], gamma = clf.best_params_['gamma'])\n"
   ]
  },
  {
   "cell_type": "code",
   "execution_count": 81,
   "metadata": {
    "collapsed": false
   },
   "outputs": [
    {
     "name": "stdout",
     "output_type": "stream",
     "text": [
      "KRR model TRAIN error is 11.6570559346 kcal/mol\n",
      "KRR model TEST error is 12.2813339243 kcal/mol\n"
     ]
    }
   ],
   "source": [
    "final_model.fit(scaled_train_data_x, scaled_train_data_y)\n",
    "krr_train = data_rescale(final_model.predict(scaled_train_data_x),train_mean_y,train_var_y)\n",
    "real_train =  data_rescale(scaled_train_data_y,train_mean_y,train_var_y)\n",
    "krr_test = data_rescale(final_model.predict(scaled_test_data_x),train_mean_y,train_var_y)\n",
    "real_test =  data_rescale(scaled_test_data_y,train_mean_y,train_var_y)\n",
    "print('KRR model TRAIN error is ' + str(rms(krr_train-real_train))+' kcal/mol')\n",
    "print('KRR model TEST error is ' + str(rms(krr_test-real_test))+' kcal/mol')"
   ]
  },
  {
   "cell_type": "code",
   "execution_count": 84,
   "metadata": {
    "collapsed": false
   },
   "outputs": [
    {
     "data": {
      "text/plain": [
       "Text(0,0.5,'pred, kcal/mol')"
      ]
     },
     "execution_count": 84,
     "metadata": {},
     "output_type": "execute_result"
    },
    {
     "data": {
      "image/png": "[encoded data removed]",
      "text/plain": [
       "<Figure size 432x288 with 1 Axes>"
      ]
     },
     "metadata": {},
     "output_type": "display_data"
    }
   ],
   "source": [
    "plt.plot(real_test,krr_test,'rx')\n",
    "plt.plot(real_train,krr_train,'bo')\n",
    "plt.axhline(y=np.mean(train_data_y))\n",
    "plt.plot(np.linspace(min(krr_train),max(krr_train)),np.linspace(min(krr_train),max(krr_train)),'g--')\n",
    "plt.xlabel('real, kcal/mol')\n",
    "plt.ylabel('pred, kcal/mol')"
   ]
  },
  {
   "cell_type": "code",
   "execution_count": 85,
   "metadata": {
    "collapsed": false
   },
   "outputs": [
    {
     "name": "stdout",
     "output_type": "stream",
     "text": [
      "KRR bad model TRAIN error is 1.97035944038e-08\n",
      "KRR bad model TEST error is 114.942710323\n"
     ]
    },
    {
     "data": {
      "text/plain": [
       "Text(0,0.5,'pred')"
      ]
     },
     "execution_count": 85,
     "metadata": {},
     "output_type": "execute_result"
    },
    {
     "data": {
      "image/png": "[encoded data removed]",
      "text/plain": [
       "<Figure size 432x288 with 1 Axes>"
      ]
     },
     "metadata": {},
     "output_type": "display_data"
    }
   ],
   "source": [
    "bad_model = KernelRidge(kernel = 'rbf', alpha = 1e-10, gamma = 1)\n",
    "bad_model.fit(scaled_train_data_x, scaled_train_data_y)\n",
    "krr_train_bad = data_rescale(bad_model.predict(scaled_train_data_x),train_mean_y,train_var_y)\n",
    "krr_test_bad = data_rescale(bad_model.predict(scaled_test_data_x),train_mean_y,train_var_y)\n",
    "print('KRR bad model TRAIN error is ' + str(rms(krr_train_bad-real_train)))\n",
    "print('KRR bad model TEST error is ' + str(rms(krr_test_bad-real_test)))\n",
    "\n",
    "# plt.plot(krr_train_bad,pred_train,'bo')\n",
    "plt.plot(real_test,krr_test_bad,'rx')\n",
    "plt.plot(real_train,krr_train_bad,'bo')\n",
    "plt.axhline(y=np.mean(train_data_y))\n",
    "plt.plot(np.linspace(min(krr_train_bad),max(krr_train_bad)),np.linspace(min(krr_train_bad),max(krr_train_bad)),'g--')\n",
    "plt.xlabel('real')\n",
    "plt.ylabel('pred')\n",
    "# plt.xlim([-2,8])\n",
    "# plt.ylim([0,10])"
   ]
  },
  {
   "cell_type": "code",
   "execution_count": 86,
   "metadata": {
    "collapsed": false
   },
   "outputs": [
    {
     "data": {
      "text/plain": [
       "-2.7862618156297421"
      ]
     },
     "execution_count": 86,
     "metadata": {},
     "output_type": "execute_result"
    }
   ],
   "source": [
    "np.mean(train_data['u0'])\n"
   ]
  },
  {
   "cell_type": "code",
   "execution_count": null,
   "metadata": {
    "collapsed": true
   },
   "outputs": [],
   "source": []
  }
 ],
 "metadata": {
  "anaconda-cloud": {},
  "hide_input": false,
  "kernelspec": {
   "display_name": "Python [conda env:mols]",
   "language": "python",
   "name": "conda-env-mols-py"
  },
  "language_info": {
   "codemirror_mode": {
    "name": "ipython",
    "version": 2
   },
   "file_extension": ".py",
   "mimetype": "text/x-python",
   "name": "python",
   "nbconvert_exporter": "python",
   "pygments_lexer": "ipython2",
   "version": "2.7.15"
  }
 },
 "nbformat": 4,
 "nbformat_minor": 1
}
