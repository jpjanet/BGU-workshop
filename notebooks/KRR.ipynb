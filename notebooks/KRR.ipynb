{
 "cells": [
  {
   "cell_type": "code",
   "execution_count": 165,
   "metadata": {
    "collapsed": false
   },
   "outputs": [],
   "source": [
    "import pandas as pd\n",
    "import numpy as np\n",
    "import numpy as np\n",
    "import pandas as pd\n",
    "import scipy as sp\n",
    "import matplotlib.pyplot as plt\n",
    "import sklearn as sk\n",
    "import os, glob, shutil, math, time\n",
    "\n",
    "\n",
    "def data_rescale(scaled_dat,train_mean,train_var):\n",
    "    d = np.shape(train_mean)[0]\n",
    "    #print('unnormalizing with number of dimensions = ' +str(d))\n",
    "    dat = (np.multiply(scaled_dat,np.sqrt(train_var))) + train_mean.T\n",
    "    return(dat)\n",
    "def data_normalize(data,train_mean,train_var):\n",
    "    d = np.shape(train_mean)[0]\n",
    "    print('normalizing with number of dimensions = ' +str(d))\n",
    "    scaled_dat = np.divide((data - train_mean.T),np.sqrt(train_var),)\n",
    "    return(scaled_dat)\n",
    "    \n"
   ]
  },
  {
   "cell_type": "code",
   "execution_count": 166,
   "metadata": {
    "collapsed": true
   },
   "outputs": [],
   "source": [
    "data = pd.read_csv(\"working_matrix.csv\",sep=\",\")\n"
   ]
  },
  {
   "cell_type": "code",
   "execution_count": 167,
   "metadata": {
    "collapsed": false
   },
   "outputs": [],
   "source": [
    "forbid_names = ['comb_2_0']\n",
    "for forb in forbid_names:\n",
    "    data  =  data.loc[data['Unnamed: 0']  != forb]"
   ]
  },
  {
   "cell_type": "code",
   "execution_count": 168,
   "metadata": {
    "collapsed": false
   },
   "outputs": [],
   "source": [
    "\n",
    "## seed \n",
    "np.random.seed(4)\n",
    "# get random partition\n",
    "msk = np.random.rand(np.shape(data)[0]) < 0.8\n",
    "\n",
    "\n",
    "# test and train split\n",
    "train_data = data[msk]\n",
    "test_data = data[~msk]"
   ]
  },
  {
   "cell_type": "code",
   "execution_count": 169,
   "metadata": {
    "collapsed": false
   },
   "outputs": [
    {
     "name": "stdout",
     "output_type": "stream",
     "text": [
      "['f.chi.0.all', 'f.chi.1.all', 'f.chi.2.all', 'f.chi.3.all', 'f.chi.4.all', 'f.Z.0.all', 'f.Z.1.all', 'f.Z.2.all', 'f.Z.3.all', 'f.Z.4.all', 'f.I.0.all', 'f.I.1.all', 'f.I.2.all', 'f.I.3.all', 'f.I.4.all', 'f.T.0.all', 'f.T.1.all', 'f.T.2.all', 'f.T.3.all', 'f.T.4.all', 'f.S.0.all', 'f.S.1.all', 'f.S.2.all', 'f.S.3.all', 'f.S.4.all', 'con.chi.0.all', 'con.chi.1.all', 'con.chi.2.all', 'con.chi.3.all', 'con.chi.4.all', 'con.chi.5.all', 'con.Z.0.all', 'con.Z.1.all', 'con.Z.2.all', 'con.Z.3.all', 'con.Z.4.all', 'con.Z.5.all', 'con.I.1.all', 'con.I.2.all', 'con.I.3.all', 'con.I.4.all', 'con.I.5.all', 'con.T.0.all', 'con.T.1.all', 'con.T.2.all', 'con.T.3.all', 'con.T.4.all', 'con.T.5.all', 'con.S.0.all', 'con.S.1.all', 'con.S.2.all', 'con.S.3.all', 'con.S.4.all', 'con.S.5.all']\n"
     ]
    }
   ],
   "source": [
    "# get \n",
    "feature_names=[]\n",
    "for ft in df.columns:\n",
    "    if ft.find('COF') ==-1  and ft.find('Unnamed: 0') ==-1 and ft.find('OFR') ==-1:\n",
    "            feature_names.append(ft)\n",
    "print(feature_names)"
   ]
  },
  {
   "cell_type": "code",
   "execution_count": 170,
   "metadata": {
    "collapsed": false
   },
   "outputs": [
    {
     "name": "stdout",
     "output_type": "stream",
     "text": [
      "normalizing with number of dimensions = 54\n",
      "normalizing with number of dimensions = 1\n",
      "normalizing with number of dimensions = 54\n",
      "normalizing with number of dimensions = 1\n"
     ]
    }
   ],
   "source": [
    "# COFs\n",
    "train_data_y = train_data['COF']\n",
    "test_data_y = test_data['COF']\n",
    "# xvales\n",
    "train_data_x = train_data[feature_names].values\n",
    "test_data_x = test_data[feature_names].values\n",
    "## data generation\n",
    "m = np.shape(train_data_x)[0]\n",
    "d = np.shape(train_data_x)[1]\n",
    "p = 1\n",
    "# normalization\n",
    "train_var_x = np.var(train_data_x,0)\n",
    "train_mean_x = np.mean(train_data_x,0).reshape(d,1).squeeze()\n",
    "train_var_y = np.var(train_data_y,0).reshape(1)\n",
    "train_mean_y = np.mean(train_data_y,0).reshape(1)\n",
    "# scale\n",
    "scaled_train_data_x = data_normalize(train_data_x,train_mean_x,train_var_x)\n",
    "scaled_train_data_y = data_normalize(train_data_y,train_mean_y,train_var_y)\n",
    "scaled_test_data_x = data_normalize(test_data_x,train_mean_x,train_var_x)\n",
    "scaled_test_data_y = data_normalize(test_data_y,train_mean_y,train_var_y)"
   ]
  },
  {
   "cell_type": "code",
   "execution_count": 171,
   "metadata": {
    "collapsed": false
   },
   "outputs": [
    {
     "data": {
      "text/plain": [
       "LinearRegression(copy_X=True, fit_intercept=True, n_jobs=1, normalize=False)"
      ]
     },
     "execution_count": 171,
     "metadata": {},
     "output_type": "execute_result"
    }
   ],
   "source": [
    "from sklearn import linear_model\n",
    "reg = linear_model.LinearRegression()\n",
    "reg.fit(scaled_train_data_x,scaled_train_data_y)\n",
    "\n"
   ]
  },
  {
   "cell_type": "code",
   "execution_count": 172,
   "metadata": {
    "collapsed": false
   },
   "outputs": [
    {
     "name": "stdout",
     "output_type": "stream",
     "text": [
      "linear model TRAIN error is 0.00287014847169\n",
      "linear model TEST error is 0.00734600505549\n"
     ]
    }
   ],
   "source": [
    "pred_train_cofs = data_rescale(reg.predict(scaled_train_data_x),train_mean_y,train_var_y)\n",
    "real_train_cofs =  data_rescale(scaled_train_data_y,train_mean_y,train_var_y)\n",
    "pred_test_cofs = data_rescale(reg.predict(scaled_test_data_x),train_mean_y,train_var_y)\n",
    "real_test_cofs =  data_rescale(scaled_test_data_y,train_mean_y,train_var_y)\n",
    "def rms(val):\n",
    "    return(np.sqrt(np.mean(np.power(val,2))))\n",
    "print('linear model TRAIN error is ' + str(rms(pred_train_cofs-real_train_cofs)))\n",
    "print('linear model TEST error is ' + str(rms(pred_test_cofs-real_test_cofs)))"
   ]
  },
  {
   "cell_type": "code",
   "execution_count": 173,
   "metadata": {
    "collapsed": false
   },
   "outputs": [
    {
     "data": {
      "text/plain": [
       "Text(0,0.5,'pred')"
      ]
     },
     "execution_count": 173,
     "metadata": {},
     "output_type": "execute_result"
    },
    {
     "data": {
      "image/png": "[encoded data removed]",
      "text/plain": [
       "<Figure size 432x288 with 1 Axes>"
      ]
     },
     "metadata": {},
     "output_type": "display_data"
    }
   ],
   "source": [
    "plt.plot(real_train_cofs,pred_train_cofs,'bo')\n",
    "plt.plot(real_test_cofs,pred_test_cofs,'rx')\n",
    "plt.xlabel('real')\n",
    "plt.ylabel('pred')"
   ]
  },
  {
   "cell_type": "code",
   "execution_count": 174,
   "metadata": {
    "collapsed": false
   },
   "outputs": [],
   "source": [
    "from sklearn.model_selection import GridSearchCV\n",
    "from sklearn.kernel_ridge import KernelRidge"
   ]
  },
  {
   "cell_type": "code",
   "execution_count": 175,
   "metadata": {
    "collapsed": false
   },
   "outputs": [
    {
     "name": "stdout",
     "output_type": "stream",
     "text": [
      "In KRR!\n",
      "In KRR loop!\n",
      "Best parameters set found on development set:\n",
      "()\n",
      "{'alpha': 9.9999999999999995e-08, 'gamma': 1e-08, 'kernel': 'rbf'}\n",
      "()\n",
      "Grid scores on development set:\n",
      "()\n",
      "('Chosen Alpha: ', 9.9999999999999995e-08)\n",
      "('Chosen Gamma: ', 1e-08)\n"
     ]
    },
    {
     "data": {
      "image/png": "[encoded data removed]",
      "text/plain": [
       "<Figure size 432x288 with 2 Axes>"
      ]
     },
     "metadata": {},
     "output_type": "display_data"
    }
   ],
   "source": [
    "print('In KRR!')\n",
    "Cs = np.array([0.0000001,0.00000001,0.000000001,0.0000000001])\n",
    "Gammas = np.array([0.005, 0.001, 0.0005, 0.0001, 0.00001, 0.000001, 0.0000001, 0.00000001])\n",
    "#Gammas = np.array(np.linspace(start=1,stop=200,num=20))\n",
    "nus = np.array([1])\n",
    "\n",
    "tuned_parameters = [{'kernel': ['rbf'], 'gamma': Gammas, 'alpha': Cs}]\n",
    "reshapedy = np.squeeze(scaled_train_data_y)\n",
    "\n",
    "fig, axs = plt.subplots(1,1, facecolor='w', edgecolor='k',squeeze=False)\n",
    "fig.subplots_adjust(hspace = .3, wspace= 1)\n",
    "axs = axs.ravel()\n",
    "for i, nu in enumerate(nus):\n",
    "    print('In KRR loop!')\n",
    "    clf = GridSearchCV(KernelRidge(), tuned_parameters, cv=10, scoring='neg_mean_absolute_error')\n",
    "    clf.fit(scaled_train_data_x, reshapedy)\n",
    "\n",
    "    print(\"Best parameters set found on development set:\")\n",
    "    print()\n",
    "    print(clf.best_params_)\n",
    "    print()\n",
    "    print(\"Grid scores on development set:\")\n",
    "    print()\n",
    "    means = clf.cv_results_['mean_test_score']\n",
    "    stds = clf.cv_results_['std_test_score']\n",
    "    #for mean, std, params in zip(means, stds, clf.cv_results_['params']):\n",
    "    #    print(\"%0.3f (+/-%0.03f) for %r\" % (mean, std * 2, params))\n",
    "    #    print()\n",
    "    scores = -(clf.cv_results_['mean_test_score'].reshape(len(Cs),len(Gammas)))\n",
    "    im = axs[i].imshow(scores, interpolation='nearest', cmap=plt.cm.jet)\n",
    "    axs[i].set_xticks(np.arange(len(Gammas)))\n",
    "    axs[i].set_yticks(np.arange(len(Cs)))\n",
    "    axs[i].set_xticklabels(['{:g}'.format(float('{:.3g}'.format(j))) for j in tuned_parameters[0]['gamma']])\n",
    "    axs[i].set_yticklabels(['{:g}'.format(float('{:.3g}'.format(j))) for j in tuned_parameters[0]['alpha']])\n",
    "    axs[i].set_xlabel('Gamma Value')\n",
    "    axs[i].set_ylabel('Alpha Value')\n",
    "    # axs[i].set_title('Nu = '+str(nu))\n",
    "    for tick in axs[i].get_xticklabels():\n",
    "        tick.set_rotation(90)\n",
    "    cbar = fig.colorbar(im, ax = axs[i], fraction=0.046, pad=0.04)#,boundaries = np.linspace(0.3, 0.8, 21))\n",
    "    cbar.set_label('MSE')\n",
    "    fig.suptitle('2D Hyperparameter Grid Search (KRR)')\n",
    "    print('Chosen Alpha: ', clf.best_params_['alpha'])\n",
    "    print('Chosen Gamma: ', clf.best_params_['gamma'])\n",
    "    final_model = KernelRidge(kernel = 'rbf', alpha = clf.best_params_['alpha'], gamma = clf.best_params_['gamma'])\n"
   ]
  },
  {
   "cell_type": "code",
   "execution_count": 162,
   "metadata": {
    "collapsed": false
   },
   "outputs": [
    {
     "name": "stdout",
     "output_type": "stream",
     "text": [
      "KRR model TRAIN error is 0.00667443818954\n",
      "KRR model TEST error is 0.00762485148799\n"
     ]
    }
   ],
   "source": [
    "final_model.fit(scaled_train_data_x, scaled_train_data_y)\n",
    "krr_train_cofs = data_rescale(final_model.predict(scaled_train_data_x),train_mean_y,train_var_y)\n",
    "real_train_cofs =  data_rescale(scaled_train_data_y,train_mean_y,train_var_y)\n",
    "krr_test_cofs = data_rescale(final_model.predict(scaled_test_data_x),train_mean_y,train_var_y)\n",
    "real_test_cofs =  data_rescale(scaled_test_data_y,train_mean_y,train_var_y)\n",
    "print('KRR model TRAIN error is ' + str(rms(krr_train_cofs-real_train_cofs)))\n",
    "print('KRR model TEST error is ' + str(rms(krr_test_cofs-real_test_cofs)))"
   ]
  },
  {
   "cell_type": "code",
   "execution_count": 163,
   "metadata": {
    "collapsed": false
   },
   "outputs": [
    {
     "ename": "SyntaxError",
     "evalue": "invalid syntax (<ipython-input-163-a5b73acb6d3d>, line 1)",
     "output_type": "error",
     "traceback": [
      "\u001b[0;36m  File \u001b[0;32m\"<ipython-input-163-a5b73acb6d3d>\"\u001b[0;36m, line \u001b[0;32m1\u001b[0m\n\u001b[0;31m    linear model TRAIN error is 0.00200541838387\u001b[0m\n\u001b[0m               ^\u001b[0m\n\u001b[0;31mSyntaxError\u001b[0m\u001b[0;31m:\u001b[0m invalid syntax\n"
     ]
    }
   ],
   "source": [
    "linear model TRAIN error is 0.00200541838387\n",
    "linear model TEST error is 0.0107625607629"
   ]
  },
  {
   "cell_type": "code",
   "execution_count": 164,
   "metadata": {
    "collapsed": false
   },
   "outputs": [
    {
     "data": {
      "text/plain": [
       "Text(0,0.5,'pred')"
      ]
     },
     "execution_count": 164,
     "metadata": {},
     "output_type": "execute_result"
    },
    {
     "data": {
      "image/png": "[encoded data removed]",
      "text/plain": [
       "<Figure size 432x288 with 1 Axes>"
      ]
     },
     "metadata": {},
     "output_type": "display_data"
    }
   ],
   "source": [
    "plt.plot(krr_train_cofs,pred_train_cofs,'bo')\n",
    "plt.plot(krr_test_cofs,pred_test_cofs,'rx')\n",
    "#plt.axvline(x=np.mean(train_data['COF']))\n",
    "plt.plot(np.linspace(min(krr_train_cofs),max(krr_train_cofs)),np.linspace(min(krr_train_cofs),max(krr_train_cofs)),'g--')\n",
    "plt.xlabel('real')\n",
    "plt.ylabel('pred')"
   ]
  },
  {
   "cell_type": "code",
   "execution_count": null,
   "metadata": {
    "collapsed": false
   },
   "outputs": [],
   "source": []
  },
  {
   "cell_type": "code",
   "execution_count": null,
   "metadata": {
    "collapsed": true
   },
   "outputs": [],
   "source": []
  },
  {
   "cell_type": "code",
   "execution_count": null,
   "metadata": {
    "collapsed": true
   },
   "outputs": [],
   "source": []
  }
 ],
 "metadata": {
  "anaconda-cloud": {},
  "kernelspec": {
   "display_name": "Python [conda env:mols]",
   "language": "python",
   "name": "conda-env-mols-py"
  },
  "language_info": {
   "codemirror_mode": {
    "name": "ipython",
    "version": 2
   },
   "file_extension": ".py",
   "mimetype": "text/x-python",
   "name": "python",
   "nbconvert_exporter": "python",
   "pygments_lexer": "ipython2",
   "version": "2.7.14"
  }
 },
 "nbformat": 4,
 "nbformat_minor": 1
}
